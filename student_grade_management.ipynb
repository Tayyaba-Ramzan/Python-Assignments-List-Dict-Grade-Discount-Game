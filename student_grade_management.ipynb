{
  "nbformat": 4,
  "nbformat_minor": 0,
  "metadata": {
    "colab": {
      "provenance": [],
      "authorship_tag": "ABX9TyM2ncVHrwFYgra3IFDQ14Lz",
      "include_colab_link": true
    },
    "kernelspec": {
      "name": "python3",
      "display_name": "Python 3"
    },
    "language_info": {
      "name": "python"
    }
  },
  "cells": [
    {
      "cell_type": "markdown",
      "metadata": {
        "id": "view-in-github",
        "colab_type": "text"
      },
      "source": [
        "<a href=\"https://colab.research.google.com/github/Tayyaba-Ramzan/Python-Assignments-List-Dict-Grade-Discount-Game/blob/main/student_grade_management.ipynb\" target=\"_parent\"><img src=\"https://colab.research.google.com/assets/colab-badge.svg\" alt=\"Open In Colab\"/></a>"
      ]
    },
    {
      "cell_type": "markdown",
      "source": [
        "# ***Student Grade Management System***\n"
      ],
      "metadata": {
        "id": "PU78BwAgUofr"
      }
    },
    {
      "cell_type": "markdown",
      "source": [
        "## 📘 Assignment Overview: Student Grade Management System\n",
        "\n",
        "In this assignment, you will create a simple **Student Grade Management System** using **Python lists and dictionaries**.\n",
        "\n",
        "This assignment will help you understand how these **data structures work together** to organize and manage information in a real-world scenario.\n",
        "\n",
        "### 🧠 Learning Objectives:\n",
        "- Practice creating and modifying **lists** and **dictionaries**\n",
        "- Learn how to store and retrieve student information\n",
        "- Use loops and conditions to manage data effectively"
      ],
      "metadata": {
        "id": "nPnqmgXlU1xq"
      }
    },
    {
      "cell_type": "markdown",
      "source": [
        "# ***Task:***"
      ],
      "metadata": {
        "id": "tbxyx-ufU-Sq"
      }
    },
    {
      "cell_type": "markdown",
      "source": [
        "1. **Create a list** to store information about students.\n",
        "2. Each student should be represented as a dictionary with the following keys:\n",
        "   - **name**: The student's full name\n",
        "   - **id**: A unique student ID number\n",
        "   - **grades**: Another dictionary containing course names as keys and grades as values\n",
        "\n",
        "3. Your program should:\n",
        "   - Add at least 3 students to the list.\n",
        "   - Add grades for at least 3 courses for each student.\n",
        "   - Display all students with their grades.\n",
        "   - Calculate and display the average grade for each student.\n",
        "   - Find and display the student with the highest average grade.\n",
        "   - List all students with an average grade above 80.\n",
        "   - Calculate and display the average grade for a specific course.\n",
        "   - Add a new student to the system."
      ],
      "metadata": {
        "id": "6mchsZ6RVaZi"
      }
    },
    {
      "cell_type": "code",
      "source": [
        "# 📘 Step 1: Create an empty list to store student data\n",
        "students = []\n",
        "\n",
        "# 📘 Step 2: Add at least 3 students with their course grades\n",
        "students.append({\n",
        "    \"name\": \"Safia Ahsan\",\n",
        "    \"id\": 101,\n",
        "    \"grades\": {\n",
        "        \"Math\": 85,\n",
        "        \"Science\": 90,\n",
        "        \"History\": 78\n",
        "    }\n",
        "})\n",
        "\n",
        "students.append({\n",
        "    \"name\": \"Tayyaba Ramzan\",\n",
        "    \"id\": 102,\n",
        "    \"grades\": {\n",
        "        \"Math\": 92,\n",
        "        \"Science\": 88,\n",
        "        \"History\": 95\n",
        "    }\n",
        "})\n",
        "\n",
        "students.append({\n",
        "    \"name\": \"Anabiya Hassan\",\n",
        "    \"id\": 103,\n",
        "    \"grades\": {\n",
        "        \"Math\": 70,\n",
        "        \"Science\": 75,\n",
        "        \"History\": 80\n",
        "    }\n",
        "})\n",
        "\n",
        "# 📘 Step 3: Display all students with their grades\n",
        "for student in students:\n",
        "    print(f\"Name: {student['name']}, ID: {student['id']}, Grades: {student['grades']}\")\n",
        "\n",
        "# 📘 Step 4: Calculate and display the average grade for each student\n",
        "print(\"\\nAverage Grades:\")\n",
        "for student in students:\n",
        "    avg = sum(student['grades'].values()) / len(student['grades'])\n",
        "    print(f\"{student['name']} - Average Grade: {avg:.2f}\")\n",
        "\n",
        "# 📘 Step 5: Find and display the student with the highest average grade\n",
        "highest_avg = 0\n",
        "best_student = None\n",
        "for student in students:\n",
        "    avg = sum(student['grades'].values()) / len(student['grades'])\n",
        "    if avg > highest_avg:\n",
        "        highest_avg = avg\n",
        "        best_student = student\n",
        "\n",
        "print(f\"\\nTop Student: {best_student['name']} with Average Grade: {highest_avg:.2f}\")\n",
        "\n",
        "# 📘 Step 6: List all students with an average grade above 80\n",
        "print(\"\\nStudents with Average Grade Above 80:\")\n",
        "for student in students:\n",
        "    avg = sum(student['grades'].values()) / len(student['grades'])\n",
        "    if avg > 80:\n",
        "        print(f\"{student['name']} - Average: {avg:.2f}\")\n",
        "\n",
        "# 📘 Step 7: Calculate and display the average grade for a specific course\n",
        "course_name = \"Math\"\n",
        "total = 0\n",
        "count = 0\n",
        "for student in students:\n",
        "    if course_name in student['grades']:\n",
        "        total += student['grades'][course_name]\n",
        "        count += 1\n",
        "\n",
        "if count > 0:\n",
        "    print(f\"\\nAverage Grade in {course_name}: {total / count:.2f}\")\n",
        "else:\n",
        "    print(f\"\\nNo grades found for {course_name}\")\n",
        "\n",
        "# 📘 Step 8: Add a new student to the system\n",
        "new_student = {\n",
        "    \"name\": \"Aliya Amir\",\n",
        "    \"id\": 104,\n",
        "    \"grades\": {\n",
        "        \"Math\": 88,\n",
        "        \"Science\": 91,\n",
        "        \"History\": 85\n",
        "    }\n",
        "}\n",
        "students.append(new_student)\n",
        "print(f\"\\nNew student added: {new_student['name']}\")\n"
      ],
      "metadata": {
        "colab": {
          "base_uri": "https://localhost:8080/"
        },
        "id": "sH7Jj9rxVBPM",
        "outputId": "ce87e9c5-3423-4947-f09c-9163914350ad"
      },
      "execution_count": 6,
      "outputs": [
        {
          "output_type": "stream",
          "name": "stdout",
          "text": [
            "Name: Safia Ahsan, ID: 101, Grades: {'Math': 85, 'Science': 90, 'History': 78}\n",
            "Name: Tayyaba Ramzan, ID: 102, Grades: {'Math': 92, 'Science': 88, 'History': 95}\n",
            "Name: Anabiya Hassan, ID: 103, Grades: {'Math': 70, 'Science': 75, 'History': 80}\n",
            "\n",
            "Average Grades:\n",
            "Safia Ahsan - Average Grade: 84.33\n",
            "Tayyaba Ramzan - Average Grade: 91.67\n",
            "Anabiya Hassan - Average Grade: 75.00\n",
            "\n",
            "Top Student: Tayyaba Ramzan with Average Grade: 91.67\n",
            "\n",
            "Students with Average Grade Above 80:\n",
            "Safia Ahsan - Average: 84.33\n",
            "Tayyaba Ramzan - Average: 91.67\n",
            "\n",
            "Average Grade in Math: 82.33\n",
            "\n",
            "New student added: Aliya Amir\n"
          ]
        }
      ]
    }
  ]
}