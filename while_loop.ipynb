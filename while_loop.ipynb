{
  "nbformat": 4,
  "nbformat_minor": 0,
  "metadata": {
    "colab": {
      "provenance": [],
      "authorship_tag": "ABX9TyOPOAP68DFfp3+4IWTUF2x/",
      "include_colab_link": true
    },
    "kernelspec": {
      "name": "python3",
      "display_name": "Python 3"
    },
    "language_info": {
      "name": "python"
    }
  },
  "cells": [
    {
      "cell_type": "markdown",
      "metadata": {
        "id": "view-in-github",
        "colab_type": "text"
      },
      "source": [
        "<a href=\"https://colab.research.google.com/github/Tayyaba-Ramzan/Python-Assignments-List-Dict-Grade-Discount-Game/blob/main/while_loop.ipynb\" target=\"_parent\"><img src=\"https://colab.research.google.com/assets/colab-badge.svg\" alt=\"Open In Colab\"/></a>"
      ]
    },
    {
      "cell_type": "markdown",
      "source": [
        "# ***While Loop Assignment - Interactive Game***\n"
      ],
      "metadata": {
        "id": "wnpbLcyvSkm9"
      }
    },
    {
      "cell_type": "markdown",
      "source": [
        "# 🎮 Assignment Overview: Number Guessing Game\n",
        "\n",
        "In this assignment, you will create a **simple number guessing game** using a `while` loop in Python."
      ],
      "metadata": {
        "id": "xzZNNYYHTF9T"
      }
    },
    {
      "cell_type": "markdown",
      "source": [
        "# ***Task:***"
      ],
      "metadata": {
        "id": "5N6zfCxyTr8T"
      }
    },
    {
      "cell_type": "markdown",
      "source": [
        "Write a Python program that:\n",
        "\n",
        "1. Sets a **\"secret number\"** (you can choose any number between 1 and 50)  \n",
        "2. Asks the player to **guess the number**  \n",
        "3. Tells the player if their guess is **too high** or **too low**  \n",
        "4. Keeps asking until the player **guesses correctly**  \n",
        "5. **Keeps track** of how many guesses it too"
      ],
      "metadata": {
        "id": "6J8E9ofUTZib"
      }
    },
    {
      "cell_type": "code",
      "source": [
        "import random\n",
        "\n",
        "# Step 1: Set a secret number between 1 and 50\n",
        "secret_number = random.randint(1, 50)\n",
        "\n",
        "# Step 2: Initialize the number of guesses\n",
        "guesses_taken = 0\n",
        "\n",
        "# Step 3: Start the game with a while loop\n",
        "print(\"Welcome to the Number Guessing Game!\")\n",
        "print(\"I am thinking of a number between 1 and 50. Can you guess it?\")\n",
        "\n",
        "# Step 4: Start guessing loop\n",
        "while True:\n",
        "    # Player input for guess\n",
        "    player_guess = int(input(\"Enter your guess: \"))\n",
        "    guesses_taken += 1  # Increment the number of guesses\n",
        "\n",
        "    # Step 5: Check if the guess is too high, too low, or correct\n",
        "    if player_guess < secret_number:\n",
        "        print(\"Too low! Try again.\")\n",
        "    elif player_guess > secret_number:\n",
        "        print(\"Too high! Try again.\")\n",
        "    else:\n",
        "        # Player guessed correctly\n",
        "        print(f\"Congratulations! You've guessed the number {secret_number} correctly!\")\n",
        "        print(f\"It took you {guesses_taken} guesses.\")\n",
        "        break  # Exit the loop once the player guesses correctly\n"
      ],
      "metadata": {
        "id": "sjY3A-vcdP-Q",
        "colab": {
          "base_uri": "https://localhost:8080/"
        },
        "outputId": "ab0bd951-b10c-4927-e97d-495fe0ce6d0b"
      },
      "execution_count": 2,
      "outputs": [
        {
          "output_type": "stream",
          "name": "stdout",
          "text": [
            "Welcome to the Number Guessing Game!\n",
            "I am thinking of a number between 1 and 50. Can you guess it?\n",
            "Enter your guess: 44\n",
            "Too high! Try again.\n",
            "Enter your guess: 33\n",
            "Too high! Try again.\n",
            "Enter your guess: 13\n",
            "Too high! Try again.\n",
            "Enter your guess: 3\n",
            "Too low! Try again.\n",
            "Enter your guess: 11\n",
            "Too high! Try again.\n",
            "Enter your guess: 6\n",
            "Too low! Try again.\n",
            "Enter your guess: 8\n",
            "Too low! Try again.\n",
            "Enter your guess: 10\n",
            "Congratulations! You've guessed the number 10 correctly!\n",
            "It took you 8 guesses.\n"
          ]
        }
      ]
    }
  ]
}