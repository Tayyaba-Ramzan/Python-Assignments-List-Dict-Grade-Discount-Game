{
  "nbformat": 4,
  "nbformat_minor": 0,
  "metadata": {
    "colab": {
      "provenance": [],
      "authorship_tag": "ABX9TyMzOUsnk2+y8O3nvdPpYdmQ",
      "include_colab_link": true
    },
    "kernelspec": {
      "name": "python3",
      "display_name": "Python 3"
    },
    "language_info": {
      "name": "python"
    }
  },
  "cells": [
    {
      "cell_type": "markdown",
      "metadata": {
        "id": "view-in-github",
        "colab_type": "text"
      },
      "source": [
        "<a href=\"https://colab.research.google.com/github/Tayyaba-Ramzan/Python-Assignments-List-Dict-Grade-Discount-Game/blob/main/python_list_methods.ipynb\" target=\"_parent\"><img src=\"https://colab.research.google.com/assets/colab-badge.svg\" alt=\"Open In Colab\"/></a>"
      ]
    },
    {
      "cell_type": "markdown",
      "source": [
        "# ***List Methods Practice***\n"
      ],
      "metadata": {
        "id": "tFtj2XN0e6rJ"
      }
    },
    {
      "cell_type": "markdown",
      "source": [
        "### 📘 *Assignment Overview*\n",
        "\n",
        "In this assignment, you will practice using different **list methods in Python**.\n",
        "\n",
        "*Lists are a fundamental data structure, and understanding how to manipulate them is essential for Python programming.*\n",
        "\n"
      ],
      "metadata": {
        "id": "n80Hd-7tRb61"
      }
    },
    {
      "cell_type": "markdown",
      "source": [
        "# ***Tasks:***"
      ],
      "metadata": {
        "id": "i0Iwu5uYSIcc"
      }
    },
    {
      "cell_type": "markdown",
      "source": [
        "# ***1. Create and Modify Lists***"
      ],
      "metadata": {
        "id": "edD8rxVOQUwe"
      }
    },
    {
      "cell_type": "markdown",
      "source": [
        "1. Create a list called `fruits` with the items: `\"apple\"`, `\"banana\"`, `\"orange\"`  \n",
        "2. Add `\"grape\"` to the end of the list using an appropriate method  \n",
        "3. Insert `\"mango\"` at position 2 in the list  \n",
        "4. Remove `\"banana\"` from the list  \n",
        "5. Print the final list"
      ],
      "metadata": {
        "id": "YQw2NrIZdzLQ"
      }
    },
    {
      "cell_type": "code",
      "source": [
        "fruit=[\"apple\",\"banana\",\"orange\"]\n",
        "fruit.append(\"grapes\")\n",
        "print(fruit)\n",
        "fruit.insert(2,\"mango\")\n",
        "print(fruit)\n",
        "fruit.remove(\"banana\")\n",
        "print(fruit)\n"
      ],
      "metadata": {
        "colab": {
          "base_uri": "https://localhost:8080/"
        },
        "id": "jSj3hUQNe7Fy",
        "outputId": "48633693-5141-4e9c-f4af-81904af02949"
      },
      "execution_count": null,
      "outputs": [
        {
          "output_type": "stream",
          "name": "stdout",
          "text": [
            "['apple', 'banana', 'orange', 'grapes']\n",
            "['apple', 'banana', 'mango', 'orange', 'grapes']\n",
            "['apple', 'mango', 'orange', 'grapes']\n"
          ]
        }
      ]
    },
    {
      "cell_type": "markdown",
      "source": [
        "# ***2. List Operations***"
      ],
      "metadata": {
        "id": "jacCFdcUQtWu"
      }
    },
    {
      "cell_type": "markdown",
      "source": [
        "### List Operations Assignment\n",
        "\n",
        "1. Create a list `numbers` with values: 10, 20, 30, 40, 50  \n",
        "2. Create a second list `more_numbers` with values: 60, 70, 80  \n",
        "3. Combine both lists into a new list called `all_numbers`  \n",
        "4. Make a copy of `all_numbers` called `numbers_copy`  \n",
        "5. Reverse the order of `numbers_copy`  \n",
        "6. Print both `all_numbers` and `numbers_copy`\n"
      ],
      "metadata": {
        "id": "afuagk6Bd9e_"
      }
    },
    {
      "cell_type": "code",
      "source": [
        "numbers=[10,20,30,40,50]\n",
        "more_numbers=[60,70,80]\n",
        "all_numbers=numbers+more_numbers\n",
        "numbers_copy=all_numbers.copy()\n",
        "numbers_copy.reverse()\n",
        "print(\"All Numbers:\", all_numbers)\n",
        "print(\"Numbers Copy (Reversed):\", numbers_copy)\n",
        "\n"
      ],
      "metadata": {
        "colab": {
          "base_uri": "https://localhost:8080/"
        },
        "id": "kSlGjrsZga9K",
        "outputId": "7f0bb7f0-aaed-4996-a71b-710a7a4c7508"
      },
      "execution_count": null,
      "outputs": [
        {
          "output_type": "stream",
          "name": "stdout",
          "text": [
            "All Numbers: [10, 20, 30, 40, 50, 60, 70, 80]\n",
            "Numbers Copy (Reversed): [80, 70, 60, 50, 40, 30, 20, 10]\n"
          ]
        }
      ]
    },
    {
      "cell_type": "markdown",
      "source": [
        "# ***3. Sorting and Counting***"
      ],
      "metadata": {
        "id": "ELmz3FWZQ58V"
      }
    },
    {
      "cell_type": "markdown",
      "source": [
        "1. Create a list `scores` with these values: 85, 92, 78, 65, 92, 85, 74  \n",
        "2. Sort the list in ascending order  \n",
        "3. Sort the list in descending order  \n",
        "4. Count how many times 92 appears in the list  \n",
        "5. Find and print the highest and lowest scores  \n",
        "6. Print the sorted list"
      ],
      "metadata": {
        "id": "AUzquAzceIbP"
      }
    },
    {
      "cell_type": "code",
      "source": [
        "scores=[85, 92, 78, 65, 92, 85, 74]\n",
        "\n",
        "scores.sort()\n",
        "print(\"Sorted in Ascending Order:\", scores)\n",
        "\n",
        "scores.sort(reverse=True)\n",
        "print(\"Sorted in Descending Order:\", scores)\n",
        "\n",
        "count_92 = scores.count(92)\n",
        "print(\"Count of 92:\", count_92)\n",
        "\n",
        "highest = max(scores)\n",
        "lowest = min(scores)\n",
        "print(\"Highest Score:\", highest)\n",
        "print(\"Lowest Score:\", lowest)\n",
        "\n",
        "print(\"Final Sorted List:\", scores)\n"
      ],
      "metadata": {
        "colab": {
          "base_uri": "https://localhost:8080/"
        },
        "id": "NA9NgMwBhstv",
        "outputId": "b995ee54-0186-4fc4-c6e0-d23b52998703"
      },
      "execution_count": null,
      "outputs": [
        {
          "output_type": "stream",
          "name": "stdout",
          "text": [
            "Sorted in Ascending Order: [65, 74, 78, 85, 85, 92, 92]\n",
            "Sorted in Descending Order: [92, 92, 85, 85, 78, 74, 65]\n",
            "Count of 92: 2\n",
            "Highest Score: 92\n",
            "Lowest Score: 65\n",
            "Final Sorted List: [92, 92, 85, 85, 78, 74, 65]\n"
          ]
        }
      ]
    },
    {
      "cell_type": "markdown",
      "source": [
        "# ***4. List Manipulation***\n"
      ],
      "metadata": {
        "id": "nj3d1dJYQ-xV"
      }
    },
    {
      "cell_type": "markdown",
      "source": [
        "### Letters List - Slicing and Modifying\n",
        "\n",
        "1. Create a list `letters` with values: \"a\", \"b\", \"c\", \"d\", \"e\"  \n",
        "2. Use slicing to create a new list with only the first three letters  \n",
        "3. Use slicing to create another list with only the last two letters  \n",
        "4. Find and print the index of \"c\" in the list  \n",
        "5. Replace \"d\" with \"z\" in the original list  \n",
        "6. Print the modified list\n"
      ],
      "metadata": {
        "id": "2M8T9Drje1pn"
      }
    },
    {
      "cell_type": "code",
      "source": [
        "letters=[ \"a\", \"b\", \"c\", \"d\", \"e\" ]\n",
        "first_three = letters[:3]\n",
        "print(\"First Three:\", first_three)\n",
        "last_two = letters[-2:]\n",
        "print(\"Last Two:\", last_two)\n",
        "index_c = letters.index(\"c\")\n",
        "print(\"Index of 'c':\", index_c)\n",
        "letters[3] = \"z\"\n",
        "print(\"Modified List:\", letters)"
      ],
      "metadata": {
        "colab": {
          "base_uri": "https://localhost:8080/"
        },
        "id": "OxfaVCBciNoG",
        "outputId": "ba543fe2-d9ce-4179-b18a-f8e8dec0f6ae"
      },
      "execution_count": null,
      "outputs": [
        {
          "output_type": "stream",
          "name": "stdout",
          "text": [
            "First Three: ['a', 'b', 'c']\n",
            "Last Two: ['d', 'e']\n",
            "Index of 'c': 2\n",
            "Modified List: ['a', 'b', 'c', 'z', 'e']\n"
          ]
        }
      ]
    }
  ]
}