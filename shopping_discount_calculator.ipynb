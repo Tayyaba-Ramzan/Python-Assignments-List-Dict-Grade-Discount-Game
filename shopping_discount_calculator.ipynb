{
  "nbformat": 4,
  "nbformat_minor": 0,
  "metadata": {
    "colab": {
      "provenance": [],
      "authorship_tag": "ABX9TyMGIIXt6nfTysVyr2/qiGb3",
      "include_colab_link": true
    },
    "kernelspec": {
      "name": "python3",
      "display_name": "Python 3"
    },
    "language_info": {
      "name": "python"
    }
  },
  "cells": [
    {
      "cell_type": "markdown",
      "metadata": {
        "id": "view-in-github",
        "colab_type": "text"
      },
      "source": [
        "<a href=\"https://colab.research.google.com/github/Tayyaba-Ramzan/Python-Assignments-List-Dict-Grade-Discount-Game/blob/main/shopping_discount_calculator.ipynb\" target=\"_parent\"><img src=\"https://colab.research.google.com/assets/colab-badge.svg\" alt=\"Open In Colab\"/></a>"
      ]
    },
    {
      "cell_type": "markdown",
      "source": [
        "# ***Shopping Discount Calculator***\n"
      ],
      "metadata": {
        "id": "hwBFjK3EVlcw"
      }
    },
    {
      "cell_type": "markdown",
      "source": [
        "### 🛍️ *Assignment Overview - Shopping Discount Calculator*\n",
        "\n",
        "In this assignment, you will create a **simple shopping discount calculator** that determines discounts based on:\n",
        "\n",
        "- 💰 Purchase amount  \n",
        "- 🧑‍🤝‍🧑 Customer loyalty status  \n",
        "- 🎉 Seasonal promotions  \n",
        "\n",
        "This program will use **`if` statements** to make decisions, similar to those used in **real-world retail systems**.\n"
      ],
      "metadata": {
        "id": "v_JG0mn8VxtX"
      }
    },
    {
      "cell_type": "markdown",
      "source": [
        "# ***Tasks:***"
      ],
      "metadata": {
        "id": "IV0k9Al4V2If"
      }
    },
    {
      "cell_type": "markdown",
      "source": [
        "# ***1. Set up the initial variables:***\n"
      ],
      "metadata": {
        "id": "Kx73b9ICV8ZX"
      }
    },
    {
      "cell_type": "markdown",
      "source": [
        "- **`purchase_amount`**: The total cost of items in the shopping cart  \n",
        "- **`is_loyalty_member`**: Boolean (`True`/`False`) indicating if the customer is a loyalty member  \n",
        "- **`day_of_week`**: A string with the current day (e.g., `\"Monday\"`, `\"Tuesday\"`, etc.)  \n",
        "- **`is_holiday_season`**: Boolean indicating if it's currently a holiday shopping season  "
      ],
      "metadata": {
        "id": "zJrLZ5EoWAxP"
      }
    },
    {
      "cell_type": "code",
      "execution_count": null,
      "metadata": {
        "id": "k0r88_nFY8nx"
      },
      "outputs": [],
      "source": [
        "purchase_amount = 120.0\n",
        "is_loyalty_member = True\n",
        "day_of_week = \"Saturday\"\n",
        "is_holiday_season = True"
      ]
    },
    {
      "cell_type": "markdown",
      "source": [
        "# ***2. Apply discount rules using if statements:***"
      ],
      "metadata": {
        "id": "OYsHexNMWJa3"
      }
    },
    {
      "cell_type": "markdown",
      "source": [
        "- If `purchase_amount` is **greater than $100**, apply a **10% discount**.\n",
        "\n",
        "- If `purchase_amount` is greater than $50 `(but less than or equal to $100)`, apply a 5% discount.\n",
        "- If the customer **is a loyalty member**, apply an **additional 5% discount**.\n",
        "- If it's a **weekend** (`Saturday` or `Sunday`), apply an **additional 2% discount**.\n",
        "- If it's a **holiday season**, apply an **additional 8% discount**."
      ],
      "metadata": {
        "id": "sHLuB7gyWRB_"
      }
    },
    {
      "cell_type": "code",
      "source": [
        "purchase_amount = 120.0\n",
        "is_loyalty_member = True\n",
        "day_of_week = \"Saturday\"\n",
        "is_holiday_season = True\n",
        "\n",
        "total_discount = 0\n",
        "\n",
        "if purchase_amount > 100:\n",
        "    discount_1 = purchase_amount * 0.10\n",
        "    total_discount += discount_1\n",
        "    print(\"10% discount on purchase over $100:\", discount_1)\n",
        "elif purchase_amount > 50:\n",
        "    discount_1 = purchase_amount * 0.05\n",
        "    total_discount += discount_1\n",
        "    print(\"5% discount on purchase over $50:\", discount_1)\n",
        "\n",
        "if is_loyalty_member:\n",
        "    loyalty_discount = purchase_amount * 0.05\n",
        "    total_discount += loyalty_discount\n",
        "    print(\"5% Loyalty Discount:\", loyalty_discount)\n",
        "\n",
        "if day_of_week == \"Saturday\" or day_of_week == \"Sunday\":\n",
        "    weekend_discount = purchase_amount * 0.02\n",
        "    total_discount += weekend_discount\n",
        "    print(\"2% Weekend Discount:\", weekend_discount)\n",
        "\n",
        "if is_holiday_season:\n",
        "    holiday_discount = purchase_amount * 0.08\n",
        "    total_discount += holiday_discount\n",
        "    print(\"8% Holiday Discount:\", holiday_discount)"
      ],
      "metadata": {
        "colab": {
          "base_uri": "https://localhost:8080/"
        },
        "id": "6iS1IwcHZePw",
        "outputId": "8ada55e6-dfe8-4eb3-84b2-86d47e5b5e41"
      },
      "execution_count": null,
      "outputs": [
        {
          "output_type": "stream",
          "name": "stdout",
          "text": [
            "10% discount on purchase over $100: 12.0\n",
            "5% Loyalty Discount: 6.0\n",
            "2% Weekend Discount: 2.4\n",
            "8% Holiday Discount: 9.6\n"
          ]
        }
      ]
    },
    {
      "cell_type": "markdown",
      "source": [
        "# ***3. Calculate and display:***\n"
      ],
      "metadata": {
        "id": "Hf06O9_QWmXP"
      }
    },
    {
      "cell_type": "markdown",
      "source": [
        "- The **original purchase amount**\n",
        "- Each **discount that was applied** and its respective **amount**\n",
        "- The **final price** after"
      ],
      "metadata": {
        "id": "79eYBD8dXAiW"
      }
    },
    {
      "cell_type": "code",
      "source": [
        "purchase_amount = 120.0\n",
        "is_loyalty_member = True\n",
        "day_of_week = \"Saturday\"\n",
        "is_holiday_season = True\n",
        "\n",
        "original_amount = purchase_amount\n",
        "total_discount = 0\n",
        "\n",
        "if purchase_amount > 100:\n",
        "    discount_1 = purchase_amount * 0.10\n",
        "    total_discount += discount_1\n",
        "    print(\"10% discount on purchase over $100:\", discount_1)\n",
        "elif purchase_amount > 50:\n",
        "    discount_1 = purchase_amount * 0.05\n",
        "    total_discount += discount_1\n",
        "    print(\"5% discount on purchase over $50:\", discount_1)\n",
        "\n",
        "if is_loyalty_member:\n",
        "    loyalty_discount = purchase_amount * 0.05\n",
        "    total_discount += loyalty_discount\n",
        "    print(\"5% Loyalty Discount:\", loyalty_discount)\n",
        "\n",
        "if day_of_week == \"Saturday\" or day_of_week == \"Sunday\":\n",
        "    weekend_discount = purchase_amount * 0.02\n",
        "    total_discount += weekend_discount\n",
        "    print(\"2% Weekend Discount:\", weekend_discount)\n",
        "\n",
        "if is_holiday_season:\n",
        "    holiday_discount = purchase_amount * 0.08\n",
        "    total_discount += holiday_discount\n",
        "    print(\"8% Holiday Discount:\", holiday_discount)\n",
        "\n",
        "final_price = purchase_amount - total_discount\n",
        "\n",
        "print(\"\\n--- Summary ---\")\n",
        "print(\"Original Purchase Amount: $\", original_amount)\n",
        "print(\"Total Discount Applied: $\", total_discount)\n",
        "print(\"Final Price to Pay: $\", final_price)\n"
      ],
      "metadata": {
        "colab": {
          "base_uri": "https://localhost:8080/"
        },
        "id": "cl1Iv5PvZjyM",
        "outputId": "b0d1cd27-fe43-4aad-ad39-b2fc8b127bd9"
      },
      "execution_count": null,
      "outputs": [
        {
          "output_type": "stream",
          "name": "stdout",
          "text": [
            "10% discount on purchase over $100: 12.0\n",
            "5% Loyalty Discount: 6.0\n",
            "2% Weekend Discount: 2.4\n",
            "8% Holiday Discount: 9.6\n",
            "\n",
            "--- Summary ---\n",
            "Original Purchase Amount: $ 120.0\n",
            "Total Discount Applied: $ 30.0\n",
            "Final Price to Pay: $ 90.0\n"
          ]
        }
      ]
    }
  ]
}