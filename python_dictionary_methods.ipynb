{
  "nbformat": 4,
  "nbformat_minor": 0,
  "metadata": {
    "colab": {
      "provenance": [],
      "authorship_tag": "ABX9TyPVnnZbSSPo1JAwH0cKFlEz",
      "include_colab_link": true
    },
    "kernelspec": {
      "name": "python3",
      "display_name": "Python 3"
    },
    "language_info": {
      "name": "python"
    }
  },
  "cells": [
    {
      "cell_type": "markdown",
      "metadata": {
        "id": "view-in-github",
        "colab_type": "text"
      },
      "source": [
        "<a href=\"https://colab.research.google.com/github/Tayyaba-Ramzan/Python-Assignments-List-Dict-Grade-Discount-Game/blob/main/python_dictionary_methods.ipynb\" target=\"_parent\"><img src=\"https://colab.research.google.com/assets/colab-badge.svg\" alt=\"Open In Colab\"/></a>"
      ]
    },
    {
      "cell_type": "markdown",
      "source": [
        "## ***Dictionary Methods Practice***"
      ],
      "metadata": {
        "id": "pVtDLtt0TNcd"
      }
    },
    {
      "cell_type": "markdown",
      "source": [
        "### 📘 *Assignment Overview*\n",
        "\n",
        "In this assignment, you will practice using different **dictionary methods in Python**.\n",
        "\n",
        "*Dictionaries are essential data structures that store key-value pairs and are widely used in Python programming.*\n"
      ],
      "metadata": {
        "id": "fkAme_IxTYqS"
      }
    },
    {
      "cell_type": "markdown",
      "source": [
        "# ***Tasks:***"
      ],
      "metadata": {
        "id": "qmtinQ46VNvw"
      }
    },
    {
      "cell_type": "markdown",
      "source": [
        "## ***1. Create and Access Dictionaries***"
      ],
      "metadata": {
        "id": "hwrICyBXUlkR"
      }
    },
    {
      "cell_type": "markdown",
      "source": [
        "- Create a dictionary called `student` with these key-value pairs:  \n",
        "  - `\"name\"`: `\"John\"`  \n",
        "  - `\"age\"`: `20`  \n",
        "  - `\"grade\"`: `\"A\"`  \n",
        "  - `\"courses\"`: `[\"Math\", \"Science\", \"History\"]`  \n",
        "\n",
        "- Print the student's **name**\n",
        "- Print the **list of courses**\n",
        "- Add a new key-value pair: `\"email\"`: `\"john@example.com\"`\n",
        "- Print the **entire dictionary**"
      ],
      "metadata": {
        "id": "jmx8TQD0TiXi"
      }
    },
    {
      "cell_type": "code",
      "execution_count": null,
      "metadata": {
        "colab": {
          "base_uri": "https://localhost:8080/"
        },
        "id": "t0fdJF66S5rB",
        "outputId": "839367a5-8100-4d7c-b103-7f668d434149"
      },
      "outputs": [
        {
          "output_type": "stream",
          "name": "stdout",
          "text": [
            "Tayyaba\n",
            "Tayyaba\n",
            "['Math', 'Science', 'History']\n",
            "['Math', 'Science', 'History']\n",
            "{'name': 'Tayyaba', 'age': 19, 'grade': 'A ONE', 'courses': ['Math', 'Science', 'History'], 'email': 'tayyabaramzan.it@gmail.com'}\n"
          ]
        }
      ],
      "source": [
        "student={\n",
        "    \"name\":\"Tayyaba\",\n",
        "    \"age\":19,\n",
        "    \"grade\":\"A\",\n",
        "    \"courses\": [\"Math\", \"Science\", \"History\"]\n",
        "}\n",
        "print(student.get(\"name\"))\n",
        "print(student[\"name\"])\n",
        "print(student.get(\"courses\"))\n",
        "print(student[\"courses\"])\n",
        "\n",
        "student[\"email\"]=\"tayyabaramzan.it@gmail.com\"\n",
        "print(student)"
      ]
    },
    {
      "cell_type": "markdown",
      "source": [
        "# ***2. Modify Dictionary Values***  \n"
      ],
      "metadata": {
        "id": "BZuA-GLgUfqp"
      }
    },
    {
      "cell_type": "markdown",
      "source": [
        "- 🔄 Change the student's **age** to `21`\n",
        "- ➕ Add a new course `\"Computer Science\"` to the **courses** list\n",
        "- 🆙 Update the **grade** to `\"A+\"`\n",
        "- 🖨️ Print the **modified dictionary**"
      ],
      "metadata": {
        "id": "vXDiFYmdUdwR"
      }
    },
    {
      "cell_type": "code",
      "source": [
        "student={\n",
        "    \"name\":\"Tayyaba\",\n",
        "    \"age\":19,\n",
        "    \"grade\":\"A ONE\",\n",
        "    \"courses\": [\"Math\", \"Science\", \"History\"]\n",
        "}\n",
        "\n",
        "student[\"age\"]=20\n",
        "print(student.get(\"age\"))\n",
        "print(student[\"age\"])\n",
        "student[\"courses\"]=\"Computer Science\"\n",
        "print(student.get(\"courses\"))\n",
        "print(student[\"courses\"])\n",
        "student[\"grade\"]=\"A+\"\n",
        "print(student.get(\"grade\"))\n",
        "print(student[\"grade\"])"
      ],
      "metadata": {
        "colab": {
          "base_uri": "https://localhost:8080/"
        },
        "id": "zLkbYl1sUiIZ",
        "outputId": "7f6f4f7f-7d63-4b5b-be5c-70468150c2e0"
      },
      "execution_count": null,
      "outputs": [
        {
          "output_type": "stream",
          "name": "stdout",
          "text": [
            "20\n",
            "20\n",
            "Computer Science\n",
            "Computer Science\n",
            "A+\n",
            "A+\n"
          ]
        }
      ]
    },
    {
      "cell_type": "markdown",
      "source": [
        "# ***3. Dictionary Operations***"
      ],
      "metadata": {
        "id": "RFcwykyyUwCg"
      }
    },
    {
      "cell_type": "markdown",
      "source": [
        "- 🧾 Create a second dictionary `student_address` with the following key-value pairs:\n",
        "  - `\"street\"`: `\"123 College Ave\"`\n",
        "  - `\"city\"`: `\"New York\"`\n",
        "  - `\"zip\"`: `\"10001\"`\n",
        "\n",
        "- 🔗 Combine both dictionaries into a new dictionary called `student_info`\n",
        "\n",
        "- ❌ Remove the `\"zip\"` key from `student_info`\n",
        "\n",
        "- 🔍 Check if `\"phone\"` exists in the dictionary\n",
        "\n",
        "- 🖨️ Print the final dictionary"
      ],
      "metadata": {
        "id": "q5hoI_G8UruQ"
      }
    },
    {
      "cell_type": "code",
      "source": [
        "student={\n",
        "    \"name\":\"Tayyaba\",\n",
        "    \"age\":19,\n",
        "    \"grade\":\"A ONE\",\n",
        "    \"courses\": [\"Math\", \"Science\", \"History\"]\n",
        "}\n",
        "\n",
        "student_address={\n",
        "    \"college\": \"BAMM PECHS GOVT College For Women\",\n",
        "    \"city\": \"Karachi\",\n",
        "    \"zip\": \"10001\"\n",
        "}\n",
        "student_info = {**student, **student_address}\n",
        "print(student_info)\n",
        "print(student_info.pop(\"zip\"))\n",
        "\n",
        "if \"phone\" in student_info:\n",
        "    print(\"Phone number is available.\")\n",
        "else:\n",
        "    print(\"Phone number is NOT available.\")\n",
        "\n",
        "print(\"Final Student Info:\")\n",
        "print(student_info)"
      ],
      "metadata": {
        "colab": {
          "base_uri": "https://localhost:8080/"
        },
        "id": "BxKDKxBTVj9J",
        "outputId": "d44eb81d-0f5b-4f08-a2ed-e50b8dc973d4"
      },
      "execution_count": null,
      "outputs": [
        {
          "output_type": "stream",
          "name": "stdout",
          "text": [
            "{'name': 'Tayyaba', 'age': 19, 'grade': 'A ONE', 'courses': ['Math', 'Science', 'History'], 'college': 'BAMM PECHS GOVT College For Women', 'city': 'Karachi', 'zip': '10001'}\n",
            "10001\n",
            "Phone number is NOT available.\n",
            "Final Student Info:\n",
            "{'name': 'Tayyaba', 'age': 19, 'grade': 'A ONE', 'courses': ['Math', 'Science', 'History'], 'college': 'BAMM PECHS GOVT College For Women', 'city': 'Karachi'}\n"
          ]
        }
      ]
    },
    {
      "cell_type": "markdown",
      "source": [
        "# ***4. Dictionary Methods***\n"
      ],
      "metadata": {
        "id": "tC1hjLM9U_iY"
      }
    },
    {
      "cell_type": "markdown",
      "source": [
        "- 🧾 Create a dictionary called `word_count` with the following key-value pairs:\n",
        "  - `\"hello\"`: `5`\n",
        "  - `\"world\"`: `10`\n",
        "  - `\"python\"`: `15`\n",
        "\n",
        "- 🔑 Get all **keys** and print them as a **list**\n",
        "\n",
        "- 🔢 Get all **values** and print them as a **list**\n",
        "\n",
        "- 🗂️ Get all **key-value pairs** and print them\n",
        "\n",
        "- 🧬 Make a **copy** of the dictionary\n",
        "\n",
        "- ❌ Clear the **original dictionary**\n",
        "\n",
        "- ✅ Print **both dictionaries** to verify:\n",
        "  - One is **empty**\n",
        "  - One is the **copied version**"
      ],
      "metadata": {
        "id": "2mFO3_zhU-oY"
      }
    },
    {
      "cell_type": "code",
      "source": [
        "word_count={\n",
        "    \"hello\":5,\n",
        "    \"world\":10,\n",
        "    \"python\":\"15\"\n",
        "}\n",
        "keys_list = list(word_count.keys())\n",
        "print(\"Keys:\", keys_list)\n",
        "\n",
        "values_list = list(word_count.values())\n",
        "print(\"Values:\", values_list)\n",
        "\n",
        "items_list = list(word_count.items())\n",
        "print(\"Key-Value Pairs:\", items_list)\n",
        "\n",
        "word_count_copy = word_count.copy()\n",
        "\n",
        "word_count.clear()\n",
        "\n",
        "print(\"Original Dictionary (after clear):\", word_count)\n",
        "print(\"Copied Dictionary:\", word_count_copy)"
      ],
      "metadata": {
        "colab": {
          "base_uri": "https://localhost:8080/"
        },
        "id": "izLkoTlqXKHH",
        "outputId": "6b4ac362-7a23-4a7b-e1bc-eaa2111ae329"
      },
      "execution_count": null,
      "outputs": [
        {
          "output_type": "stream",
          "name": "stdout",
          "text": [
            "Keys: ['hello', 'world', 'python']\n",
            "Values: [5, 10, '15']\n",
            "Key-Value Pairs: [('hello', 5), ('world', 10), ('python', '15')]\n",
            "Original Dictionary (after clear): {}\n",
            "Copied Dictionary: {'hello': 5, 'world': 10, 'python': '15'}\n"
          ]
        }
      ]
    }
  ]
}