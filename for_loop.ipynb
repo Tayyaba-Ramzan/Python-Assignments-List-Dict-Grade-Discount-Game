{
  "nbformat": 4,
  "nbformat_minor": 0,
  "metadata": {
    "colab": {
      "provenance": [],
      "authorship_tag": "ABX9TyOpWkTMOjwP8Yo73NV+cRFb",
      "include_colab_link": true
    },
    "kernelspec": {
      "name": "python3",
      "display_name": "Python 3"
    },
    "language_info": {
      "name": "python"
    }
  },
  "cells": [
    {
      "cell_type": "markdown",
      "metadata": {
        "id": "view-in-github",
        "colab_type": "text"
      },
      "source": [
        "<a href=\"https://colab.research.google.com/github/Tayyaba-Ramzan/Python-Assignments-List-Dict-Grade-Discount-Game/blob/main/for_loop.ipynb\" target=\"_parent\"><img src=\"https://colab.research.google.com/assets/colab-badge.svg\" alt=\"Open In Colab\"/></a>"
      ]
    },
    {
      "cell_type": "markdown",
      "source": [
        "# ***For Loop Assignment - Number Patterns***\n",
        "\n"
      ],
      "metadata": {
        "id": "nzRp87ceOIY3"
      }
    },
    {
      "cell_type": "markdown",
      "source": [
        "## 📝 Assignment Overview\n",
        "\n",
        "In this assignment, you will create **number patterns** using `for` loops in Python.\n",
        "\n",
        "You will practice:\n",
        "- Looping with `range()`\n",
        "- Nesting loops (if required)\n",
        "- Printing patterns using `print()`"
      ],
      "metadata": {
        "id": "IP7MvozxOyPW"
      }
    },
    {
      "cell_type": "markdown",
      "source": [
        "# ***Tasks:***"
      ],
      "metadata": {
        "id": "MBhInbLBPJuF"
      }
    },
    {
      "cell_type": "markdown",
      "source": [
        "## 🔢 Pattern 1: Counting Numbers\n",
        "\n",
        "**Goal:** Print numbers from 1 to 10 on a single line.\n"
      ],
      "metadata": {
        "id": "uUy2BvutO7Rl"
      }
    },
    {
      "cell_type": "code",
      "execution_count": null,
      "metadata": {
        "colab": {
          "base_uri": "https://localhost:8080/"
        },
        "id": "82YrXIPHbFD0",
        "outputId": "394b2f57-3990-4c6c-ff28-b0279b5ff04f"
      },
      "outputs": [
        {
          "output_type": "stream",
          "name": "stdout",
          "text": [
            "1\n",
            "2\n",
            "3\n",
            "4\n",
            "5\n",
            "6\n",
            "7\n",
            "8\n",
            "9\n",
            "10\n"
          ]
        }
      ],
      "source": [
        "for number in range(1,11):\n",
        "  print(number)"
      ]
    },
    {
      "cell_type": "markdown",
      "source": [
        "## ✖️ Pattern 2: Multiplication Table\n",
        "\n",
        "**Goal:** Create a multiplication table for the number 5 (from 1 to 10).\n"
      ],
      "metadata": {
        "id": "-E5Sn-OsPE0N"
      }
    },
    {
      "cell_type": "code",
      "source": [
        "for five_table in range(1,11):\n",
        "  print(\"5 x\",five_table,\"=\",five_table*5)"
      ],
      "metadata": {
        "colab": {
          "base_uri": "https://localhost:8080/"
        },
        "id": "T3U9hPKKbi-T",
        "outputId": "1a500971-9d2c-4874-f1fc-f2ab33181edc"
      },
      "execution_count": null,
      "outputs": [
        {
          "output_type": "stream",
          "name": "stdout",
          "text": [
            "5 x 1 = 5\n",
            "5 x 2 = 10\n",
            "5 x 3 = 15\n",
            "5 x 4 = 20\n",
            "5 x 5 = 25\n",
            "5 x 6 = 30\n",
            "5 x 7 = 35\n",
            "5 x 8 = 40\n",
            "5 x 9 = 45\n",
            "5 x 10 = 50\n"
          ]
        }
      ]
    }
  ]
}